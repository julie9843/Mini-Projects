{
  "nbformat": 4,
  "nbformat_minor": 0,
  "metadata": {
    "colab": {
      "name": "Translator.ipynb",
      "provenance": [],
      "collapsed_sections": []
    },
    "kernelspec": {
      "display_name": "Python 3",
      "name": "python3"
    },
    "language_info": {
      "name": "python"
    }
  },
  "cells": [
    {
      "cell_type": "code",
      "metadata": {
        "colab": {
          "base_uri": "https://localhost:8080/"
        },
        "id": "txvV7-vSDL3n",
        "outputId": "01b77f45-be71-44cd-c2f3-e9f40b0c5fa6"
      },
      "source": [
        "pip install konlpy"
      ],
      "execution_count": null,
      "outputs": [
        {
          "output_type": "stream",
          "text": [
            "Collecting konlpy\n",
            "\u001b[?25l  Downloading https://files.pythonhosted.org/packages/85/0e/f385566fec837c0b83f216b2da65db9997b35dd675e107752005b7d392b1/konlpy-0.5.2-py2.py3-none-any.whl (19.4MB)\n",
            "\u001b[K     |████████████████████████████████| 19.4MB 48.0MB/s \n",
            "\u001b[?25hRequirement already satisfied: numpy>=1.6 in /usr/local/lib/python3.7/dist-packages (from konlpy) (1.19.5)\n",
            "Collecting colorama\n",
            "  Downloading https://files.pythonhosted.org/packages/44/98/5b86278fbbf250d239ae0ecb724f8572af1c91f4a11edf4d36a206189440/colorama-0.4.4-py2.py3-none-any.whl\n",
            "Requirement already satisfied: lxml>=4.1.0 in /usr/local/lib/python3.7/dist-packages (from konlpy) (4.2.6)\n",
            "Requirement already satisfied: tweepy>=3.7.0 in /usr/local/lib/python3.7/dist-packages (from konlpy) (3.10.0)\n",
            "Collecting JPype1>=0.7.0\n",
            "\u001b[?25l  Downloading https://files.pythonhosted.org/packages/98/88/f817ef1af6f794e8f11313dcd1549de833f4599abcec82746ab5ed086686/JPype1-1.3.0-cp37-cp37m-manylinux_2_5_x86_64.manylinux1_x86_64.whl (448kB)\n",
            "\u001b[K     |████████████████████████████████| 450kB 33.4MB/s \n",
            "\u001b[?25hCollecting beautifulsoup4==4.6.0\n",
            "\u001b[?25l  Downloading https://files.pythonhosted.org/packages/9e/d4/10f46e5cfac773e22707237bfcd51bbffeaf0a576b0a847ec7ab15bd7ace/beautifulsoup4-4.6.0-py3-none-any.whl (86kB)\n",
            "\u001b[K     |████████████████████████████████| 92kB 10.8MB/s \n",
            "\u001b[?25hRequirement already satisfied: requests[socks]>=2.11.1 in /usr/local/lib/python3.7/dist-packages (from tweepy>=3.7.0->konlpy) (2.23.0)\n",
            "Requirement already satisfied: six>=1.10.0 in /usr/local/lib/python3.7/dist-packages (from tweepy>=3.7.0->konlpy) (1.15.0)\n",
            "Requirement already satisfied: requests-oauthlib>=0.7.0 in /usr/local/lib/python3.7/dist-packages (from tweepy>=3.7.0->konlpy) (1.3.0)\n",
            "Requirement already satisfied: typing-extensions; python_version < \"3.8\" in /usr/local/lib/python3.7/dist-packages (from JPype1>=0.7.0->konlpy) (3.7.4.3)\n",
            "Requirement already satisfied: certifi>=2017.4.17 in /usr/local/lib/python3.7/dist-packages (from requests[socks]>=2.11.1->tweepy>=3.7.0->konlpy) (2021.5.30)\n",
            "Requirement already satisfied: idna<3,>=2.5 in /usr/local/lib/python3.7/dist-packages (from requests[socks]>=2.11.1->tweepy>=3.7.0->konlpy) (2.10)\n",
            "Requirement already satisfied: chardet<4,>=3.0.2 in /usr/local/lib/python3.7/dist-packages (from requests[socks]>=2.11.1->tweepy>=3.7.0->konlpy) (3.0.4)\n",
            "Requirement already satisfied: urllib3!=1.25.0,!=1.25.1,<1.26,>=1.21.1 in /usr/local/lib/python3.7/dist-packages (from requests[socks]>=2.11.1->tweepy>=3.7.0->konlpy) (1.24.3)\n",
            "Requirement already satisfied: PySocks!=1.5.7,>=1.5.6; extra == \"socks\" in /usr/local/lib/python3.7/dist-packages (from requests[socks]>=2.11.1->tweepy>=3.7.0->konlpy) (1.7.1)\n",
            "Requirement already satisfied: oauthlib>=3.0.0 in /usr/local/lib/python3.7/dist-packages (from requests-oauthlib>=0.7.0->tweepy>=3.7.0->konlpy) (3.1.1)\n",
            "Installing collected packages: colorama, JPype1, beautifulsoup4, konlpy\n",
            "  Found existing installation: beautifulsoup4 4.6.3\n",
            "    Uninstalling beautifulsoup4-4.6.3:\n",
            "      Successfully uninstalled beautifulsoup4-4.6.3\n",
            "Successfully installed JPype1-1.3.0 beautifulsoup4-4.6.0 colorama-0.4.4 konlpy-0.5.2\n"
          ],
          "name": "stdout"
        }
      ]
    },
    {
      "cell_type": "code",
      "metadata": {
        "id": "kHBYwg5bDHGy"
      },
      "source": [
        "import pandas as pd\n",
        "import re\n",
        "from konlpy.tag import Okt\n",
        "from konlpy.utils import pprint\n",
        "from konlpy.tag import Kkma\n",
        "from konlpy.utils import pprint\n",
        "from nltk.corpus import stopwords \n",
        "from nltk.tokenize import word_tokenize\n",
        "import numpy as np"
      ],
      "execution_count": null,
      "outputs": []
    },
    {
      "cell_type": "code",
      "metadata": {
        "colab": {
          "base_uri": "https://localhost:8080/",
          "height": 419
        },
        "id": "zCU8HllhDJoN",
        "outputId": "b5aacb0b-f942-4861-c72d-1320a41acebe"
      },
      "source": [
        "df = pd.read_csv('kor.csv',names=['Eng','Kor'])\n",
        "df"
      ],
      "execution_count": null,
      "outputs": [
        {
          "output_type": "execute_result",
          "data": {
            "text/html": [
              "<div>\n",
              "<style scoped>\n",
              "    .dataframe tbody tr th:only-of-type {\n",
              "        vertical-align: middle;\n",
              "    }\n",
              "\n",
              "    .dataframe tbody tr th {\n",
              "        vertical-align: top;\n",
              "    }\n",
              "\n",
              "    .dataframe thead th {\n",
              "        text-align: right;\n",
              "    }\n",
              "</style>\n",
              "<table border=\"1\" class=\"dataframe\">\n",
              "  <thead>\n",
              "    <tr style=\"text-align: right;\">\n",
              "      <th></th>\n",
              "      <th>Eng</th>\n",
              "      <th>Kor</th>\n",
              "    </tr>\n",
              "  </thead>\n",
              "  <tbody>\n",
              "    <tr>\n",
              "      <th>0</th>\n",
              "      <td>Go.</td>\n",
              "      <td>가</td>\n",
              "    </tr>\n",
              "    <tr>\n",
              "      <th>1</th>\n",
              "      <td>Hi.</td>\n",
              "      <td>안녕.</td>\n",
              "    </tr>\n",
              "    <tr>\n",
              "      <th>2</th>\n",
              "      <td>Run!</td>\n",
              "      <td>뛰어!</td>\n",
              "    </tr>\n",
              "    <tr>\n",
              "      <th>3</th>\n",
              "      <td>Run.</td>\n",
              "      <td>뛰어.</td>\n",
              "    </tr>\n",
              "    <tr>\n",
              "      <th>4</th>\n",
              "      <td>Who?</td>\n",
              "      <td>누구?</td>\n",
              "    </tr>\n",
              "    <tr>\n",
              "      <th>...</th>\n",
              "      <td>...</td>\n",
              "      <td>...</td>\n",
              "    </tr>\n",
              "    <tr>\n",
              "      <th>3718</th>\n",
              "      <td>Science fiction has undoubtedly been the inspi...</td>\n",
              "      <td>공상 과학 소설은 의심의 여지 없이 오늘날 존재하는 많은 기술에 영감을 주었어.</td>\n",
              "    </tr>\n",
              "    <tr>\n",
              "      <th>3719</th>\n",
              "      <td>I started a new blog. I'll do my best not to b...</td>\n",
              "      <td>난 블로그를 시작했어. 블로그를 초반에만 반짝 많이 하다가 관두는 사람처럼은 되지 ...</td>\n",
              "    </tr>\n",
              "    <tr>\n",
              "      <th>3720</th>\n",
              "      <td>I think it's a shame that some foreign languag...</td>\n",
              "      <td>몇몇 외국어 선생님이 한 번도 원어민과 공부해본 적도 없으면서 대학을 나올 수 있었...</td>\n",
              "    </tr>\n",
              "    <tr>\n",
              "      <th>3721</th>\n",
              "      <td>If someone who doesn't know your background sa...</td>\n",
              "      <td>만일 네 사정도 잘 모르는 사람이 원어민 같다고 말한다면 그건 그 사람이 네가 원어...</td>\n",
              "    </tr>\n",
              "    <tr>\n",
              "      <th>3722</th>\n",
              "      <td>Doubtless there exists in this world precisely...</td>\n",
              "      <td>의심의 여지 없이 세상에는 어떤 남자이든 정확히 딱 알맞는 여자와 결혼하거나 그 반...</td>\n",
              "    </tr>\n",
              "  </tbody>\n",
              "</table>\n",
              "<p>3723 rows × 2 columns</p>\n",
              "</div>"
            ],
            "text/plain": [
              "                                                    Eng                                                Kor\n",
              "0                                                   Go.                                                  가\n",
              "1                                                   Hi.                                                안녕.\n",
              "2                                                  Run!                                                뛰어!\n",
              "3                                                  Run.                                                뛰어.\n",
              "4                                                  Who?                                                누구?\n",
              "...                                                 ...                                                ...\n",
              "3718  Science fiction has undoubtedly been the inspi...       공상 과학 소설은 의심의 여지 없이 오늘날 존재하는 많은 기술에 영감을 주었어.\n",
              "3719  I started a new blog. I'll do my best not to b...  난 블로그를 시작했어. 블로그를 초반에만 반짝 많이 하다가 관두는 사람처럼은 되지 ...\n",
              "3720  I think it's a shame that some foreign languag...  몇몇 외국어 선생님이 한 번도 원어민과 공부해본 적도 없으면서 대학을 나올 수 있었...\n",
              "3721  If someone who doesn't know your background sa...  만일 네 사정도 잘 모르는 사람이 원어민 같다고 말한다면 그건 그 사람이 네가 원어...\n",
              "3722  Doubtless there exists in this world precisely...  의심의 여지 없이 세상에는 어떤 남자이든 정확히 딱 알맞는 여자와 결혼하거나 그 반...\n",
              "\n",
              "[3723 rows x 2 columns]"
            ]
          },
          "metadata": {
            "tags": []
          },
          "execution_count": 183
        }
      ]
    },
    {
      "cell_type": "code",
      "metadata": {
        "colab": {
          "base_uri": "https://localhost:8080/",
          "height": 80
        },
        "id": "EJdU3t_fIG9i",
        "outputId": "31da12ef-450b-43e8-914f-f11de4430563"
      },
      "source": [
        "\n",
        "lengths = df[\"Eng\"].str.len()\n",
        "argmax = np.where(lengths == lengths.max())[0]\n",
        "df.iloc[argmax]"
      ],
      "execution_count": null,
      "outputs": [
        {
          "output_type": "execute_result",
          "data": {
            "text/html": [
              "<div>\n",
              "<style scoped>\n",
              "    .dataframe tbody tr th:only-of-type {\n",
              "        vertical-align: middle;\n",
              "    }\n",
              "\n",
              "    .dataframe tbody tr th {\n",
              "        vertical-align: top;\n",
              "    }\n",
              "\n",
              "    .dataframe thead th {\n",
              "        text-align: right;\n",
              "    }\n",
              "</style>\n",
              "<table border=\"1\" class=\"dataframe\">\n",
              "  <thead>\n",
              "    <tr style=\"text-align: right;\">\n",
              "      <th></th>\n",
              "      <th>Eng</th>\n",
              "      <th>Kor</th>\n",
              "    </tr>\n",
              "  </thead>\n",
              "  <tbody>\n",
              "    <tr>\n",
              "      <th>3722</th>\n",
              "      <td>Doubtless there exists in this world precisely...</td>\n",
              "      <td>의심의 여지 없이 세상에는 어떤 남자이든 정확히 딱 알맞는 여자와 결혼하거나 그 반...</td>\n",
              "    </tr>\n",
              "  </tbody>\n",
              "</table>\n",
              "</div>"
            ],
            "text/plain": [
              "                                                    Eng                                                Kor\n",
              "3722  Doubtless there exists in this world precisely...  의심의 여지 없이 세상에는 어떤 남자이든 정확히 딱 알맞는 여자와 결혼하거나 그 반..."
            ]
          },
          "metadata": {
            "tags": []
          },
          "execution_count": 184
        }
      ]
    },
    {
      "cell_type": "code",
      "metadata": {
        "colab": {
          "base_uri": "https://localhost:8080/"
        },
        "id": "jAogTZLnI2F6",
        "outputId": "b1af9fa9-a628-4d14-a410-bf8a0ddb82da"
      },
      "source": [
        "\n",
        "df['Eng'].str.len().max()"
      ],
      "execution_count": null,
      "outputs": [
        {
          "output_type": "execute_result",
          "data": {
            "text/plain": [
              "537"
            ]
          },
          "metadata": {
            "tags": []
          },
          "execution_count": 43
        }
      ]
    },
    {
      "cell_type": "code",
      "metadata": {
        "colab": {
          "base_uri": "https://localhost:8080/",
          "height": 80
        },
        "id": "YEHM1iQfIhpV",
        "outputId": "bb3d28cb-8ff5-498e-8fed-c558e54722b5"
      },
      "source": [
        "\n",
        "lengths = df[\"Kor\"].str.len()\n",
        "argmax = np.where(lengths == lengths.max())[0]\n",
        "df.iloc[argmax]"
      ],
      "execution_count": null,
      "outputs": [
        {
          "output_type": "execute_result",
          "data": {
            "text/html": [
              "<div>\n",
              "<style scoped>\n",
              "    .dataframe tbody tr th:only-of-type {\n",
              "        vertical-align: middle;\n",
              "    }\n",
              "\n",
              "    .dataframe tbody tr th {\n",
              "        vertical-align: top;\n",
              "    }\n",
              "\n",
              "    .dataframe thead th {\n",
              "        text-align: right;\n",
              "    }\n",
              "</style>\n",
              "<table border=\"1\" class=\"dataframe\">\n",
              "  <thead>\n",
              "    <tr style=\"text-align: right;\">\n",
              "      <th></th>\n",
              "      <th>Eng</th>\n",
              "      <th>Kor</th>\n",
              "    </tr>\n",
              "  </thead>\n",
              "  <tbody>\n",
              "    <tr>\n",
              "      <th>3722</th>\n",
              "      <td>Doubtless there exists in this world precisely...</td>\n",
              "      <td>의심의 여지 없이 세상에는 어떤 남자이든 정확히 딱 알맞는 여자와 결혼하거나 그 반...</td>\n",
              "    </tr>\n",
              "  </tbody>\n",
              "</table>\n",
              "</div>"
            ],
            "text/plain": [
              "                                                    Eng                                                Kor\n",
              "3722  Doubtless there exists in this world precisely...  의심의 여지 없이 세상에는 어떤 남자이든 정확히 딱 알맞는 여자와 결혼하거나 그 반..."
            ]
          },
          "metadata": {
            "tags": []
          },
          "execution_count": 185
        }
      ]
    },
    {
      "cell_type": "code",
      "metadata": {
        "id": "NqW_jgivg-f3"
      },
      "source": [
        "train, test = df.iloc[:2000], df.iloc[2000:]"
      ],
      "execution_count": null,
      "outputs": []
    },
    {
      "cell_type": "code",
      "metadata": {
        "id": "Ple6RxLmhRhJ"
      },
      "source": [
        "train = train.to_numpy()\n",
        "test = test.to_numpy()"
      ],
      "execution_count": null,
      "outputs": []
    },
    {
      "cell_type": "code",
      "metadata": {
        "id": "rY3JsizoDb4R"
      },
      "source": [
        "\n",
        "import string\n",
        "\n",
        "string.punctuation\n",
        "\n",
        "def remove_punct(text):\n",
        "    text = \"\".join([char for char in text if char not in string.punctuation])\n",
        "    return text"
      ],
      "execution_count": null,
      "outputs": []
    },
    {
      "cell_type": "code",
      "metadata": {
        "id": "tLh246LlDdj_"
      },
      "source": [
        "df['Eng']= df['Eng'].apply(lambda x:remove_punct(x))\n",
        "df['Kor']= df['Kor'].apply(lambda x:remove_punct(x))"
      ],
      "execution_count": null,
      "outputs": []
    },
    {
      "cell_type": "code",
      "metadata": {
        "id": "UQ1mIie_DfTU"
      },
      "source": [
        "\n",
        "def tokenize(text):\n",
        "    tokens = text.split()\n",
        "    tokens2 = re.split('\\W+', text)\n",
        "    #tokens3 = re.findall(r'\\S+', text)\n",
        "    return tokens\n",
        "\n",
        "df['Eng'] = df['Eng'].apply(lambda x: tokenize(x.lower()))"
      ],
      "execution_count": null,
      "outputs": []
    },
    {
      "cell_type": "code",
      "metadata": {
        "id": "49xiMQlRDg4s"
      },
      "source": [
        "okt= Okt()\n",
        "def tokenize_kor(text):\n",
        "    tokens = okt.morphs(text)\n",
        "    return tokens\n",
        "df['Kor']= df['Kor'].apply(lambda x: tokenize_kor(x))"
      ],
      "execution_count": null,
      "outputs": []
    },
    {
      "cell_type": "code",
      "metadata": {
        "colab": {
          "base_uri": "https://localhost:8080/",
          "height": 419
        },
        "id": "_pQxQrl0DhyA",
        "outputId": "f1554b78-7144-4cd4-9559-5803fe9516f9"
      },
      "source": [
        "df"
      ],
      "execution_count": null,
      "outputs": [
        {
          "output_type": "execute_result",
          "data": {
            "text/html": [
              "<div>\n",
              "<style scoped>\n",
              "    .dataframe tbody tr th:only-of-type {\n",
              "        vertical-align: middle;\n",
              "    }\n",
              "\n",
              "    .dataframe tbody tr th {\n",
              "        vertical-align: top;\n",
              "    }\n",
              "\n",
              "    .dataframe thead th {\n",
              "        text-align: right;\n",
              "    }\n",
              "</style>\n",
              "<table border=\"1\" class=\"dataframe\">\n",
              "  <thead>\n",
              "    <tr style=\"text-align: right;\">\n",
              "      <th></th>\n",
              "      <th>Eng</th>\n",
              "      <th>Kor</th>\n",
              "    </tr>\n",
              "  </thead>\n",
              "  <tbody>\n",
              "    <tr>\n",
              "      <th>0</th>\n",
              "      <td>[go]</td>\n",
              "      <td>[가]</td>\n",
              "    </tr>\n",
              "    <tr>\n",
              "      <th>1</th>\n",
              "      <td>[hi]</td>\n",
              "      <td>[안녕]</td>\n",
              "    </tr>\n",
              "    <tr>\n",
              "      <th>2</th>\n",
              "      <td>[run]</td>\n",
              "      <td>[뛰어]</td>\n",
              "    </tr>\n",
              "    <tr>\n",
              "      <th>3</th>\n",
              "      <td>[run]</td>\n",
              "      <td>[뛰어]</td>\n",
              "    </tr>\n",
              "    <tr>\n",
              "      <th>4</th>\n",
              "      <td>[who]</td>\n",
              "      <td>[누구]</td>\n",
              "    </tr>\n",
              "    <tr>\n",
              "      <th>...</th>\n",
              "      <td>...</td>\n",
              "      <td>...</td>\n",
              "    </tr>\n",
              "    <tr>\n",
              "      <th>3718</th>\n",
              "      <td>[science, fiction, has, undoubtedly, been, the...</td>\n",
              "      <td>[공상, 과학, 소설, 은, 의심, 의, 여지, 없이, 오늘날, 존재, 하는, 많은...</td>\n",
              "    </tr>\n",
              "    <tr>\n",
              "      <th>3719</th>\n",
              "      <td>[i, started, a, new, blog, ill, do, my, best, ...</td>\n",
              "      <td>[난, 블로그, 를, 시작, 했어, 블로그, 를, 초반, 에만, 반짝, 많이, 하다...</td>\n",
              "    </tr>\n",
              "    <tr>\n",
              "      <th>3720</th>\n",
              "      <td>[i, think, its, a, shame, that, some, foreign,...</td>\n",
              "      <td>[몇몇, 외국어, 선생님, 이, 한, 번, 도, 원어민, 과, 공부, 해본, 적도,...</td>\n",
              "    </tr>\n",
              "    <tr>\n",
              "      <th>3721</th>\n",
              "      <td>[if, someone, who, doesnt, know, your, backgro...</td>\n",
              "      <td>[만일, 네, 사정, 도, 잘, 모르는, 사람, 이, 원어민, 같다고, 말, 한다면...</td>\n",
              "    </tr>\n",
              "    <tr>\n",
              "      <th>3722</th>\n",
              "      <td>[doubtless, there, exists, in, this, world, pr...</td>\n",
              "      <td>[의심, 의, 여지, 없이, 세상, 에는, 어떤, 남자, 이든, 정확히, 딱, 알맞...</td>\n",
              "    </tr>\n",
              "  </tbody>\n",
              "</table>\n",
              "<p>3723 rows × 2 columns</p>\n",
              "</div>"
            ],
            "text/plain": [
              "                                                    Eng                                                Kor\n",
              "0                                                  [go]                                                [가]\n",
              "1                                                  [hi]                                               [안녕]\n",
              "2                                                 [run]                                               [뛰어]\n",
              "3                                                 [run]                                               [뛰어]\n",
              "4                                                 [who]                                               [누구]\n",
              "...                                                 ...                                                ...\n",
              "3718  [science, fiction, has, undoubtedly, been, the...  [공상, 과학, 소설, 은, 의심, 의, 여지, 없이, 오늘날, 존재, 하는, 많은...\n",
              "3719  [i, started, a, new, blog, ill, do, my, best, ...  [난, 블로그, 를, 시작, 했어, 블로그, 를, 초반, 에만, 반짝, 많이, 하다...\n",
              "3720  [i, think, its, a, shame, that, some, foreign,...  [몇몇, 외국어, 선생님, 이, 한, 번, 도, 원어민, 과, 공부, 해본, 적도,...\n",
              "3721  [if, someone, who, doesnt, know, your, backgro...  [만일, 네, 사정, 도, 잘, 모르는, 사람, 이, 원어민, 같다고, 말, 한다면...\n",
              "3722  [doubtless, there, exists, in, this, world, pr...  [의심, 의, 여지, 없이, 세상, 에는, 어떤, 남자, 이든, 정확히, 딱, 알맞...\n",
              "\n",
              "[3723 rows x 2 columns]"
            ]
          },
          "metadata": {
            "tags": []
          },
          "execution_count": 177
        }
      ]
    },
    {
      "cell_type": "code",
      "metadata": {
        "id": "Qy9GM-ZTDonI"
      },
      "source": [
        "# Fit tokenizer \n",
        "from tensorflow.keras.preprocessing.text import Tokenizer\n",
        "def create_tokenizer(lines):\n",
        "    tokenizer = Tokenizer()\n",
        "    tokenizer.fit_on_texts(lines)\n",
        "    return tokenizer"
      ],
      "execution_count": null,
      "outputs": []
    },
    {
      "cell_type": "code",
      "metadata": {
        "id": "Ld8-1g2qDv-F"
      },
      "source": [
        "def max_length(lines):\n",
        "\treturn max(len(line.split()) for line in lines)"
      ],
      "execution_count": null,
      "outputs": []
    },
    {
      "cell_type": "code",
      "metadata": {
        "colab": {
          "base_uri": "https://localhost:8080/"
        },
        "id": "iECYBKaUEg_D",
        "outputId": "770d77d0-2b0d-4f89-f76a-5952240bbd70"
      },
      "source": [
        "df['Eng']"
      ],
      "execution_count": null,
      "outputs": [
        {
          "output_type": "execute_result",
          "data": {
            "text/plain": [
              "0                                                    [go]\n",
              "1                                                    [hi]\n",
              "2                                                   [run]\n",
              "3                                                   [run]\n",
              "4                                                   [who]\n",
              "                              ...                        \n",
              "3718    [science, fiction, has, undoubtedly, been, the...\n",
              "3719    [i, started, a, new, blog, ill, do, my, best, ...\n",
              "3720    [i, think, its, a, shame, that, some, foreign,...\n",
              "3721    [if, someone, who, doesnt, know, your, backgro...\n",
              "3722    [doubtless, there, exists, in, this, world, pr...\n",
              "Name: Eng, Length: 3723, dtype: object"
            ]
          },
          "metadata": {
            "tags": []
          },
          "execution_count": 196
        }
      ]
    },
    {
      "cell_type": "code",
      "metadata": {
        "colab": {
          "base_uri": "https://localhost:8080/"
        },
        "id": "jFw89KL_D_yk",
        "outputId": "41a8cd23-606f-42f4-e27f-730cadc08771"
      },
      "source": [
        "from nltk import word_tokenize\n",
        "# prepare english tokenizer\n",
        "eng_tokenizer = create_tokenizer(df['Eng'].values)\n",
        "eng_vocab_size = len(eng_tokenizer.word_index) + 1\n",
        "eng_length = df['Eng'].str.len().max()\n",
        "print('English Vocabulary Size: %d' % eng_vocab_size)\n",
        "print('English Max Length: %d' % (eng_length))\n",
        "# prepare german tokenizer\n",
        "kor_tokenizer = create_tokenizer(df['Kor'].values)\n",
        "kor_vocab_size = len(kor_tokenizer.word_index) + 1\n",
        "kor_length = df['Kor'].str.len().max()\n",
        "print('Korean Vocabulary Size: %d' % kor_vocab_size)\n",
        "print('Korean Max Length: %d' % (kor_length))"
      ],
      "execution_count": null,
      "outputs": [
        {
          "output_type": "stream",
          "text": [
            "English Vocabulary Size: 2561\n",
            "English Max Length: 101\n",
            "Korean Vocabulary Size: 4150\n",
            "Korean Max Length: 124\n"
          ],
          "name": "stdout"
        }
      ]
    },
    {
      "cell_type": "code",
      "metadata": {
        "id": "nTsuFjqZEnCp"
      },
      "source": [
        "from keras.preprocessing.sequence import pad_sequences\n",
        "\n",
        "# encode and pad sequences\n",
        "def encode_sequences(tokenizer, length, lines):\n",
        "\t# integer encode sequences\n",
        "\tX = tokenizer.texts_to_sequences(lines)\n",
        "\t# pad sequences with 0 values\n",
        "\tX = pad_sequences(X, maxlen=length, padding='post')\n",
        "\treturn X"
      ],
      "execution_count": null,
      "outputs": []
    },
    {
      "cell_type": "code",
      "metadata": {
        "id": "-cmVrjwDRwVN"
      },
      "source": [
        "import tensorflow as tf"
      ],
      "execution_count": null,
      "outputs": []
    },
    {
      "cell_type": "code",
      "metadata": {
        "id": "v6mIyoFzEpNJ"
      },
      "source": [
        "def encode_output(sequences, vocab_size):\n",
        "\tylist = list()\n",
        "\tfor sequence in sequences:\n",
        "\t\tencoded = tf.keras.utils.to_categorical(sequence, num_classes=vocab_size)\n",
        "\t\tylist.append(encoded)\n",
        "\ty = array(ylist)\n",
        "\ty = y.reshape(sequences.shape[0], sequences.shape[1], vocab_size)\n",
        "\treturn y"
      ],
      "execution_count": null,
      "outputs": []
    },
    {
      "cell_type": "code",
      "metadata": {
        "id": "O_7bL0IKLYvx"
      },
      "source": [
        "from sklearn.model_selection import train_test_split\n",
        "train, test = train_test_split(df, test_size=0.2, random_state = 12)"
      ],
      "execution_count": null,
      "outputs": []
    },
    {
      "cell_type": "code",
      "metadata": {
        "colab": {
          "base_uri": "https://localhost:8080/"
        },
        "id": "RFWtrNxKOEs0",
        "outputId": "75ab32ff-c826-48bf-9ec2-988faa6935c6"
      },
      "source": [
        "train['Eng']"
      ],
      "execution_count": null,
      "outputs": [
        {
          "output_type": "execute_result",
          "data": {
            "text/plain": [
              "2524               [tom, has, decided, to, study, abroad]\n",
              "2565              [have, you, ever, been, to, disneyland]\n",
              "227                                         [how, lovely]\n",
              "651                                  [i, caught, a, cold]\n",
              "3474    [my, favorite, city, in, the, whole, world, is...\n",
              "                              ...                        \n",
              "3313    [tom, roasted, the, marshmallow, over, the, fire]\n",
              "3325    [i, didnt, know, tom, was, a, child, psycholog...\n",
              "1414                        [children, need, to, be, fed]\n",
              "1691                       [i, havent, kissed, mary, yet]\n",
              "1867                      [thatll, teach, you, a, lesson]\n",
              "Name: Eng, Length: 2978, dtype: object"
            ]
          },
          "metadata": {
            "tags": []
          },
          "execution_count": 201
        }
      ]
    },
    {
      "cell_type": "code",
      "metadata": {
        "colab": {
          "base_uri": "https://localhost:8080/",
          "height": 419
        },
        "id": "kvOma3ZyONm7",
        "outputId": "b1cd3fa1-c0ac-48ed-f5e3-b5998ea2a2e4"
      },
      "source": [
        "test"
      ],
      "execution_count": null,
      "outputs": [
        {
          "output_type": "execute_result",
          "data": {
            "text/html": [
              "<div>\n",
              "<style scoped>\n",
              "    .dataframe tbody tr th:only-of-type {\n",
              "        vertical-align: middle;\n",
              "    }\n",
              "\n",
              "    .dataframe tbody tr th {\n",
              "        vertical-align: top;\n",
              "    }\n",
              "\n",
              "    .dataframe thead th {\n",
              "        text-align: right;\n",
              "    }\n",
              "</style>\n",
              "<table border=\"1\" class=\"dataframe\">\n",
              "  <thead>\n",
              "    <tr style=\"text-align: right;\">\n",
              "      <th></th>\n",
              "      <th>Eng</th>\n",
              "      <th>Kor</th>\n",
              "    </tr>\n",
              "  </thead>\n",
              "  <tbody>\n",
              "    <tr>\n",
              "      <th>2844</th>\n",
              "      <td>[tom, usually, drinks, beer, at, parties]</td>\n",
              "      <td>[톰, 은, 보통, 파티, 에서, 맥주, 를, 마셔]</td>\n",
              "    </tr>\n",
              "    <tr>\n",
              "      <th>2791</th>\n",
              "      <td>[i, shouldve, cooked, the, pork, longer]</td>\n",
              "      <td>[돼지고기, 를, 더, 구웠어야, 했는데]</td>\n",
              "    </tr>\n",
              "    <tr>\n",
              "      <th>2961</th>\n",
              "      <td>[the, cost, of, the, book, is, five, dollars]</td>\n",
              "      <td>[이, 책, 의, 가격, 은, 5, 달러, 야]</td>\n",
              "    </tr>\n",
              "    <tr>\n",
              "      <th>1932</th>\n",
              "      <td>[whos, your, favorite, singer]</td>\n",
              "      <td>[좋아하는, 가수, 는, 누구, 예요]</td>\n",
              "    </tr>\n",
              "    <tr>\n",
              "      <th>263</th>\n",
              "      <td>[start, over]</td>\n",
              "      <td>[다시, 해]</td>\n",
              "    </tr>\n",
              "    <tr>\n",
              "      <th>...</th>\n",
              "      <td>...</td>\n",
              "      <td>...</td>\n",
              "    </tr>\n",
              "    <tr>\n",
              "      <th>2307</th>\n",
              "      <td>[tom, seemed, a, little, dangerous]</td>\n",
              "      <td>[톰, 은, 조금, 위험해, 보였어]</td>\n",
              "    </tr>\n",
              "    <tr>\n",
              "      <th>1538</th>\n",
              "      <td>[do, you, understand, or, not]</td>\n",
              "      <td>[이해, 한, 거, 야, 안, 한거야]</td>\n",
              "    </tr>\n",
              "    <tr>\n",
              "      <th>1069</th>\n",
              "      <td>[when, does, tom, leave]</td>\n",
              "      <td>[톰, 은, 언제, 떠나]</td>\n",
              "    </tr>\n",
              "    <tr>\n",
              "      <th>3432</th>\n",
              "      <td>[is, it, true, that, youre, a, high, school, t...</td>\n",
              "      <td>[네, 가, 고등학교, 선생님, 이라는, 게, 사실, 이니]</td>\n",
              "    </tr>\n",
              "    <tr>\n",
              "      <th>248</th>\n",
              "      <td>[keep, still]</td>\n",
              "      <td>[계속, 조용히, 하고, 있어, 봐]</td>\n",
              "    </tr>\n",
              "  </tbody>\n",
              "</table>\n",
              "<p>745 rows × 2 columns</p>\n",
              "</div>"
            ],
            "text/plain": [
              "                                                    Eng                                Kor\n",
              "2844          [tom, usually, drinks, beer, at, parties]      [톰, 은, 보통, 파티, 에서, 맥주, 를, 마셔]\n",
              "2791           [i, shouldve, cooked, the, pork, longer]            [돼지고기, 를, 더, 구웠어야, 했는데]\n",
              "2961      [the, cost, of, the, book, is, five, dollars]         [이, 책, 의, 가격, 은, 5, 달러, 야]\n",
              "1932                     [whos, your, favorite, singer]              [좋아하는, 가수, 는, 누구, 예요]\n",
              "263                                       [start, over]                            [다시, 해]\n",
              "...                                                 ...                                ...\n",
              "2307                [tom, seemed, a, little, dangerous]               [톰, 은, 조금, 위험해, 보였어]\n",
              "1538                     [do, you, understand, or, not]              [이해, 한, 거, 야, 안, 한거야]\n",
              "1069                           [when, does, tom, leave]                     [톰, 은, 언제, 떠나]\n",
              "3432  [is, it, true, that, youre, a, high, school, t...  [네, 가, 고등학교, 선생님, 이라는, 게, 사실, 이니]\n",
              "248                                       [keep, still]               [계속, 조용히, 하고, 있어, 봐]\n",
              "\n",
              "[745 rows x 2 columns]"
            ]
          },
          "metadata": {
            "tags": []
          },
          "execution_count": 202
        }
      ]
    },
    {
      "cell_type": "code",
      "metadata": {
        "id": "Gl3WD5IyMNP0"
      },
      "source": [
        "\n",
        "# prepare training data\n",
        "trainX = encode_sequences(kor_tokenizer, kor_length, train['Kor'])\n",
        "trainY = encode_sequences(eng_tokenizer, eng_length, train['Eng'])\n",
        "trainY = encode_output(trainY, eng_vocab_size) \n",
        "# prepare validation data\n",
        "testX = encode_sequences(kor_tokenizer, kor_length, test['Kor'])\n",
        "testY = encode_sequences(eng_tokenizer, eng_length, test['Eng'])\n",
        "testY = encode_output(testY, eng_vocab_size)"
      ],
      "execution_count": null,
      "outputs": []
    },
    {
      "cell_type": "code",
      "metadata": {
        "id": "UTh0TpDhPGjf"
      },
      "source": [
        "from pickle import load\n",
        "from numpy import array\n",
        "from keras.preprocessing.text import Tokenizer\n",
        "from keras.preprocessing.sequence import pad_sequences\n",
        "from tensorflow.keras.utils import to_categorical\n",
        "from keras.utils.vis_utils import plot_model\n",
        "from tensorflow.keras.models import Sequential\n",
        "from tensorflow.keras.layers import LSTM\n",
        "from tensorflow.keras.layers import Dense\n",
        "from tensorflow.keras.layers import Embedding\n",
        "from tensorflow.keras.layers import RepeatVector\n",
        "from tensorflow.keras.layers import TimeDistributed\n",
        "from tensorflow.keras.callbacks import ModelCheckpoint\n"
      ],
      "execution_count": null,
      "outputs": []
    },
    {
      "cell_type": "code",
      "metadata": {
        "id": "Oqf_xgavKKt2"
      },
      "source": [
        "\n",
        "def define_model(src_vocab, tar_vocab, src_timesteps, tar_timesteps, n_units):\n",
        "\tmodel = Sequential()\n",
        "\tmodel.add(Embedding(src_vocab, n_units, input_length=src_timesteps, mask_zero=True))\n",
        "\tmodel.add(LSTM(n_units))\n",
        "\tmodel.add(RepeatVector(tar_timesteps))\n",
        "\tmodel.add(LSTM(n_units, return_sequences=True))\n",
        "\tmodel.add(TimeDistributed(Dense(tar_vocab, activation='softmax')))\n",
        "\treturn model"
      ],
      "execution_count": null,
      "outputs": []
    },
    {
      "cell_type": "code",
      "metadata": {
        "colab": {
          "base_uri": "https://localhost:8080/"
        },
        "id": "3p-jJiRpPIik",
        "outputId": "5f11a52e-556f-4229-f4a1-523d3d14e5f5"
      },
      "source": [
        "model = define_model(kor_vocab_size, eng_vocab_size, 20, 101, 64)\n",
        "\n",
        "model.compile(optimizer='adam', loss='categorical_crossentropy')\n",
        "print(model.summary())"
      ],
      "execution_count": null,
      "outputs": [
        {
          "output_type": "stream",
          "text": [
            "Model: \"sequential_6\"\n",
            "_________________________________________________________________\n",
            "Layer (type)                 Output Shape              Param #   \n",
            "=================================================================\n",
            "embedding_6 (Embedding)      (None, 20, 64)            265600    \n",
            "_________________________________________________________________\n",
            "lstm_12 (LSTM)               (None, 64)                33024     \n",
            "_________________________________________________________________\n",
            "repeat_vector_6 (RepeatVecto (None, 101, 64)           0         \n",
            "_________________________________________________________________\n",
            "lstm_13 (LSTM)               (None, 101, 64)           33024     \n",
            "_________________________________________________________________\n",
            "time_distributed_6 (TimeDist (None, 101, 2561)         166465    \n",
            "=================================================================\n",
            "Total params: 498,113\n",
            "Trainable params: 498,113\n",
            "Non-trainable params: 0\n",
            "_________________________________________________________________\n",
            "None\n"
          ],
          "name": "stdout"
        }
      ]
    },
    {
      "cell_type": "code",
      "metadata": {
        "colab": {
          "background_save": true,
          "base_uri": "https://localhost:8080/"
        },
        "id": "C_OKmJg1Pccn",
        "outputId": "f13f1fb2-c9d5-45c2-b790-ad130171a492"
      },
      "source": [
        "filename = 'model.h5'\n",
        "checkpoint = ModelCheckpoint(filename, monitor='val_loss', verbose=1, save_best_only=True, mode='min')\n",
        "model.fit(trainX, trainY, epochs=10, batch_size=64, validation_data=(testX, testY), callbacks=[checkpoint], verbose=2)"
      ],
      "execution_count": null,
      "outputs": [
        {
          "output_type": "stream",
          "text": [
            "Epoch 1/10\n",
            "WARNING:tensorflow:Model was constructed with shape (None, 20) for input KerasTensor(type_spec=TensorSpec(shape=(None, 20), dtype=tf.float32, name='embedding_6_input'), name='embedding_6_input', description=\"created by layer 'embedding_6_input'\"), but it was called on an input with incompatible shape (None, 124).\n",
            "WARNING:tensorflow:Model was constructed with shape (None, 20) for input KerasTensor(type_spec=TensorSpec(shape=(None, 20), dtype=tf.float32, name='embedding_6_input'), name='embedding_6_input', description=\"created by layer 'embedding_6_input'\"), but it was called on an input with incompatible shape (None, 124).\n",
            "WARNING:tensorflow:Model was constructed with shape (None, 20) for input KerasTensor(type_spec=TensorSpec(shape=(None, 20), dtype=tf.float32, name='embedding_6_input'), name='embedding_6_input', description=\"created by layer 'embedding_6_input'\"), but it was called on an input with incompatible shape (None, 124).\n",
            "47/47 - 45s - loss: 5.3733 - val_loss: 1.3582\n",
            "\n",
            "Epoch 00001: val_loss improved from inf to 1.35815, saving model to model.h5\n",
            "Epoch 2/10\n",
            "47/47 - 35s - loss: 0.6924 - val_loss: 0.5347\n",
            "\n",
            "Epoch 00002: val_loss improved from 1.35815 to 0.53471, saving model to model.h5\n",
            "Epoch 3/10\n",
            "47/47 - 36s - loss: 0.4923 - val_loss: 0.4509\n",
            "\n",
            "Epoch 00003: val_loss improved from 0.53471 to 0.45086, saving model to model.h5\n",
            "Epoch 4/10\n",
            "47/47 - 35s - loss: 0.4346 - val_loss: 0.4164\n",
            "\n",
            "Epoch 00004: val_loss improved from 0.45086 to 0.41639, saving model to model.h5\n",
            "Epoch 5/10\n",
            "47/47 - 35s - loss: 0.4108 - val_loss: 0.4008\n",
            "\n",
            "Epoch 00005: val_loss improved from 0.41639 to 0.40077, saving model to model.h5\n",
            "Epoch 6/10\n",
            "47/47 - 35s - loss: 0.3985 - val_loss: 0.3913\n",
            "\n",
            "Epoch 00006: val_loss improved from 0.40077 to 0.39126, saving model to model.h5\n",
            "Epoch 7/10\n",
            "47/47 - 35s - loss: 0.3910 - val_loss: 0.3858\n",
            "\n",
            "Epoch 00007: val_loss improved from 0.39126 to 0.38582, saving model to model.h5\n",
            "Epoch 8/10\n",
            "47/47 - 35s - loss: 0.3854 - val_loss: 0.3942\n",
            "\n",
            "Epoch 00008: val_loss did not improve from 0.38582\n",
            "Epoch 9/10\n",
            "47/47 - 35s - loss: 0.3871 - val_loss: 0.3794\n",
            "\n",
            "Epoch 00009: val_loss improved from 0.38582 to 0.37937, saving model to model.h5\n",
            "Epoch 10/10\n",
            "47/47 - 34s - loss: 0.3835 - val_loss: 0.3765\n",
            "\n",
            "Epoch 00010: val_loss improved from 0.37937 to 0.37654, saving model to model.h5\n"
          ],
          "name": "stdout"
        },
        {
          "output_type": "execute_result",
          "data": {
            "text/plain": [
              "<tensorflow.python.keras.callbacks.History at 0x7fc577837210>"
            ]
          },
          "metadata": {
            "tags": []
          },
          "execution_count": 0
        }
      ]
    },
    {
      "cell_type": "code",
      "metadata": {
        "id": "tkStvZd5ZodU"
      },
      "source": [
        "# map an integer to a word\n",
        "def word_for_id(integer, tokenizer):\n",
        "\tfor word, index in tokenizer.word_index.items():\n",
        "\t\tif index == integer:\n",
        "\t\t\treturn word\n",
        "\treturn None\n",
        "  \n",
        "# generate target given source sequence\n",
        "def predict_sequence(model, tokenizer, source):\n",
        "\tprediction = model.predict(source, verbose=0)[0]\n",
        "\tintegers = [np.argmax(vector) for vector in prediction]\n",
        "\ttarget = list()\n",
        "\tfor i in integers:\n",
        "\t\tword = word_for_id(i, tokenizer)\n",
        "\t\tif word is None:\n",
        "\t\t\tbreak\n",
        "\t\ttarget.append(word)\n",
        "\treturn ' '.join(target)\n",
        " \n",
        "# evaluate the skill of the model\n",
        "def evaluate_model(model, tokenizer, sources, raw_dataset):\n",
        "\tactual, predicted = list(), list()\n",
        "\tfor i, source in enumerate(sources):\n",
        "\t\t# translate encoded source text\n",
        "\t\tsource = source.reshape((1, source.shape[0]))\n",
        "\t\ttranslation = predict_sequence(model, eng_tokenizer, source)\n",
        "\t\traw_target, raw_src = raw_dataset[i]b\n",
        "    \n",
        "\t\tif i < 10:\n",
        "\t\t\tprint('src=[%s], target=[%s], predicted=[%s]' % (raw_src, raw_target, translation))\n",
        "\t\tactual.append([raw_target.split()])\n",
        "\t\tpredicted.append(translation.split())\n",
        "\t# calculate BLEU score\n",
        "\tprint('BLEU-1: %f' % corpus_bleu(actual, predicted, weights=(1.0, 0, 0, 0)))\n",
        "\tprint('BLEU-2: %f' % corpus_bleu(actual, predicted, weights=(0.5, 0.5, 0, 0)))\n",
        "\tprint('BLEU-3: %f' % corpus_bleu(actual, predicted, weights=(0.3, 0.3, 0.3, 0)))\n",
        "\tprint('BLEU-4: %f' % corpus_bleu(actual, predicted, weights=(0.25, 0.25, 0.25, 0.25)))"
      ],
      "execution_count": null,
      "outputs": []
    },
    {
      "cell_type": "code",
      "metadata": {
        "colab": {
          "base_uri": "https://localhost:8080/",
          "height": 422
        },
        "id": "_PMv1J3TaA-Z",
        "outputId": "d3847b92-05bf-4c05-8765-292107eef05c"
      },
      "source": [
        "from keras.models import load_model \n",
        "import numpy as np\n",
        "model = load_model('model.h5')\n",
        "# test on some training sequences\n",
        "print('train')\n",
        "evaluate_model(model, eng_tokenizer, trainX, train)\n",
        "# test on some test sequences\n",
        "print('test')\n",
        "evaluate_model(model, eng_tokenizer, testX, test)"
      ],
      "execution_count": null,
      "outputs": [
        {
          "output_type": "stream",
          "text": [
            "train\n",
            "WARNING:tensorflow:Model was constructed with shape (None, 20) for input KerasTensor(type_spec=TensorSpec(shape=(None, 20), dtype=tf.float32, name='embedding_5_input'), name='embedding_5_input', description=\"created by layer 'embedding_5_input'\"), but it was called on an input with incompatible shape (None, 124).\n",
            "src=[['톰', '은', '해외', '에서', '공부', '하기로', '결심', '했대']], target=[['tom', 'has', 'decided', 'to', 'study', 'abroad']], predicted=[i i to to]\n"
          ],
          "name": "stdout"
        },
        {
          "output_type": "error",
          "ename": "AttributeError",
          "evalue": "ignored",
          "traceback": [
            "\u001b[0;31m---------------------------------------------------------------------------\u001b[0m",
            "\u001b[0;31mAttributeError\u001b[0m                            Traceback (most recent call last)",
            "\u001b[0;32m<ipython-input-169-616e8a3ea8c9>\u001b[0m in \u001b[0;36m<module>\u001b[0;34m()\u001b[0m\n\u001b[1;32m      4\u001b[0m \u001b[0;31m# test on some training sequences\u001b[0m\u001b[0;34m\u001b[0m\u001b[0;34m\u001b[0m\u001b[0;34m\u001b[0m\u001b[0m\n\u001b[1;32m      5\u001b[0m \u001b[0mprint\u001b[0m\u001b[0;34m(\u001b[0m\u001b[0;34m'train'\u001b[0m\u001b[0;34m)\u001b[0m\u001b[0;34m\u001b[0m\u001b[0;34m\u001b[0m\u001b[0m\n\u001b[0;32m----> 6\u001b[0;31m \u001b[0mevaluate_model\u001b[0m\u001b[0;34m(\u001b[0m\u001b[0mmodel\u001b[0m\u001b[0;34m,\u001b[0m \u001b[0meng_tokenizer\u001b[0m\u001b[0;34m,\u001b[0m \u001b[0mtrainX\u001b[0m\u001b[0;34m,\u001b[0m \u001b[0mtrain\u001b[0m\u001b[0;34m)\u001b[0m\u001b[0;34m\u001b[0m\u001b[0;34m\u001b[0m\u001b[0m\n\u001b[0m\u001b[1;32m      7\u001b[0m \u001b[0;31m# test on some test sequences\u001b[0m\u001b[0;34m\u001b[0m\u001b[0;34m\u001b[0m\u001b[0;34m\u001b[0m\u001b[0m\n\u001b[1;32m      8\u001b[0m \u001b[0mprint\u001b[0m\u001b[0;34m(\u001b[0m\u001b[0;34m'test'\u001b[0m\u001b[0;34m)\u001b[0m\u001b[0;34m\u001b[0m\u001b[0;34m\u001b[0m\u001b[0m\n",
            "\u001b[0;32m<ipython-input-162-9e558aa0fcee>\u001b[0m in \u001b[0;36mevaluate_model\u001b[0;34m(model, tokenizer, sources, raw_dataset)\u001b[0m\n\u001b[1;32m     28\u001b[0m                 \u001b[0;32mif\u001b[0m \u001b[0mi\u001b[0m \u001b[0;34m<\u001b[0m \u001b[0;36m10\u001b[0m\u001b[0;34m:\u001b[0m\u001b[0;34m\u001b[0m\u001b[0;34m\u001b[0m\u001b[0m\n\u001b[1;32m     29\u001b[0m                         \u001b[0mprint\u001b[0m\u001b[0;34m(\u001b[0m\u001b[0;34m'src=[%s], target=[%s], predicted=[%s]'\u001b[0m \u001b[0;34m%\u001b[0m \u001b[0;34m(\u001b[0m\u001b[0mraw_src\u001b[0m\u001b[0;34m,\u001b[0m \u001b[0mraw_target\u001b[0m\u001b[0;34m,\u001b[0m \u001b[0mtranslation\u001b[0m\u001b[0;34m)\u001b[0m\u001b[0;34m)\u001b[0m\u001b[0;34m\u001b[0m\u001b[0;34m\u001b[0m\u001b[0m\n\u001b[0;32m---> 30\u001b[0;31m                 \u001b[0mactual\u001b[0m\u001b[0;34m.\u001b[0m\u001b[0mappend\u001b[0m\u001b[0;34m(\u001b[0m\u001b[0;34m[\u001b[0m\u001b[0mraw_target\u001b[0m\u001b[0;34m.\u001b[0m\u001b[0msplit\u001b[0m\u001b[0;34m(\u001b[0m\u001b[0;34m)\u001b[0m\u001b[0;34m]\u001b[0m\u001b[0;34m)\u001b[0m\u001b[0;34m\u001b[0m\u001b[0;34m\u001b[0m\u001b[0m\n\u001b[0m\u001b[1;32m     31\u001b[0m                 \u001b[0mpredicted\u001b[0m\u001b[0;34m.\u001b[0m\u001b[0mappend\u001b[0m\u001b[0;34m(\u001b[0m\u001b[0mtranslation\u001b[0m\u001b[0;34m.\u001b[0m\u001b[0msplit\u001b[0m\u001b[0;34m(\u001b[0m\u001b[0;34m)\u001b[0m\u001b[0;34m)\u001b[0m\u001b[0;34m\u001b[0m\u001b[0;34m\u001b[0m\u001b[0m\n\u001b[1;32m     32\u001b[0m         \u001b[0;31m# calculate BLEU score\u001b[0m\u001b[0;34m\u001b[0m\u001b[0;34m\u001b[0m\u001b[0;34m\u001b[0m\u001b[0m\n",
            "\u001b[0;31mAttributeError\u001b[0m: 'list' object has no attribute 'split'"
          ]
        }
      ]
    }
  ]
}